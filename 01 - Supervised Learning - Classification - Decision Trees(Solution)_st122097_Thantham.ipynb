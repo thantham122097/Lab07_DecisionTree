{
 "cells": [
  {
   "cell_type": "markdown",
   "metadata": {},
   "source": [
    "# Programming for Data Science and Artificial Intelligence\n",
    "\n",
    "## Supervised Learning - Classification - Decision Trees\n",
    "\n",
    "## Name: Thantham Khamyai\n",
    "\n",
    "## Student ID: 122097\n",
    "\n",
    "### ===Task===\n",
    "\n",
    "Let's modify the above scratch code to\n",
    "- Modify the scratch code so it can accept an hyperparameter <code>max_depth</code>, in which it will continue create the tree until max_depth is reached.\n",
    "- Put everything into a class <code>DecisionTree</code>.  It should have at least two methods, <code>fit()</code>, and <code>predict()</code>\n",
    "- Load the iris data and try with your class"
   ]
  },
  {
   "cell_type": "code",
   "execution_count": 3,
   "metadata": {},
   "outputs": [],
   "source": [
    "import numpy as np\n",
    "import matplotlib.pyplot as plt"
   ]
  },
  {
   "cell_type": "markdown",
   "metadata": {},
   "source": [
    "## Decision Tree Class"
   ]
  },
  {
   "cell_type": "code",
   "execution_count": 4,
   "metadata": {},
   "outputs": [],
   "source": [
    "class DecisionTree:\n",
    "    \n",
    "    \n",
    "    def __init__(self, max_depth = None):\n",
    "        \n",
    "        # If user not put max_depth or put negative depth -> set to infinite\n",
    "        if (max_depth is None) or (max_depth <1):\n",
    "            print('{Warning]: max_depth defined is None or less than 1, model will set to no limit')\n",
    "            self.max_depth = np.inf\n",
    "        else:\n",
    "            self.max_depth = max_depth\n",
    "        \n",
    "    def fit(self, X, y):\n",
    "        self.n_classes_ = len(set(y)) # get unique class\n",
    "        self.n_features_ = X.shape[1] # get number of features\n",
    "        self.tree_ = self._grow_tree(X, y) # make a tree\n",
    "    \n",
    "    def predict(self, X):\n",
    "        # For each x_test_i -> predict class\n",
    "        return np.array([self._predict(x_i) for x_i in X])\n",
    "    \n",
    "    # Reuseable function to create new Node\n",
    "    def _grow_tree(self, X, y, depth=0):\n",
    "        \n",
    "        # get number sample for each output class\n",
    "        num_samples_per_class = [np.sum(y == i) for i in range(self.n_classes_)]\n",
    "        \n",
    "        # get the output class that has largest number of samples\n",
    "        predicted_class = np.argmax(num_samples_per_class)\n",
    "        \n",
    "        # create a Node with that class\n",
    "        node = self.Node(predicted_class=predicted_class)\n",
    "\n",
    "        # Check if depth of tree is exceed max_depth\n",
    "        if depth < self.max_depth:\n",
    "            \n",
    "            # Find feature_idx and feature_threshold value from finding best split \n",
    "            idx, thr = self._best_split(X, y)\n",
    "            \n",
    "            # check if idx exists\n",
    "            if idx is not None:\n",
    "                \n",
    "                # Is it on Left?\n",
    "                indices_left = X[:, idx] < thr\n",
    "                \n",
    "                # Point to the left\n",
    "                X_left, y_left = X[indices_left], y[indices_left]\n",
    "                \n",
    "                # Point to the right (from not left)\n",
    "                X_right, y_right = X[~indices_left], y[~indices_left]\n",
    "                \n",
    "                #  set identity feature at node\n",
    "                node.feature_index = idx\n",
    "                \n",
    "                # set threshold for node\n",
    "                node.threshold = thr\n",
    "                \n",
    "                # continuely grow left and right node\n",
    "                node.left = self._grow_tree(X_left, y_left, depth + 1)\n",
    "                node.right = self._grow_tree(X_right, y_right, depth + 1)\n",
    "                \n",
    "        return node\n",
    "\n",
    "    def _predict(self, inputs):\n",
    "        \n",
    "        #init tree for prediction\n",
    "        node = self.tree_\n",
    "        \n",
    "        # If next branch exists -> go next branch\n",
    "        while node.left:\n",
    "            \n",
    "            # test on if feature that current node less than threshold \n",
    "            if inputs[node.feature_index] < node.threshold:\n",
    "                \n",
    "                # go to the left leaf\n",
    "                node = node.left\n",
    "            else:\n",
    "                # go to the right leaf\n",
    "                node = node.right\n",
    "                \n",
    "        return node.predicted_class\n",
    "\n",
    "    def _best_split(self, X, y):\n",
    "        \n",
    "        # get number of samples\n",
    "        m = y.size\n",
    "        \n",
    "        # if no samples more, than exit\n",
    "        if m <= 1:\n",
    "            return None, None\n",
    "        \n",
    "        # count samples that are each class\n",
    "        num_parent = [np.sum(y == c) for c in range(self.n_classes_)]\n",
    "        \n",
    "        # find gini Index using I_g equation\n",
    "        best_gini = 1.0 - sum((n / m) ** 2 for n in num_parent)\n",
    "        \n",
    "        # init best split indx and threshold value\n",
    "        best_idx, best_thr = None, None\n",
    "        \n",
    "        # looping all features to find best split\n",
    "        for idx in range(self.n_features_):\n",
    "            \n",
    "            # make list of threshold split\n",
    "            thresholds, classes = zip(*sorted(zip(X[:, idx], y)))\n",
    "            \n",
    "            # make countable list\n",
    "            num_left = [0] * self.n_classes_\n",
    "            \n",
    "            # make init right \n",
    "            num_right = num_parent.copy()\n",
    "            \n",
    "            # try to calcualate left to right\n",
    "            for i in range(1, m):\n",
    "                \n",
    "                # \n",
    "                c = classes[i - 1]\n",
    "                num_left[c] += 1\n",
    "                num_right[c] -= 1\n",
    "                \n",
    "                # gini index on left\n",
    "                gini_left = 1.0 - sum(\n",
    "                    (num_left[x] / i) ** 2 for x in range(self.n_classes_)\n",
    "                )\n",
    "                # gini index on right\n",
    "                gini_right = 1.0 - sum(\n",
    "                    (num_right[x] / (m - i)) ** 2 for x in range(self.n_classes_)\n",
    "                )\n",
    "                \n",
    "                # gini on node\n",
    "                gini = (i * gini_left + (m - i) * gini_right) / m\n",
    "                \n",
    "                #  If out of threshold exists\n",
    "                if thresholds[i] == thresholds[i - 1]:\n",
    "                    continue\n",
    "                    \n",
    "                # if current gini is better previous\n",
    "                if gini < best_gini:\n",
    "                    best_gini = gini # set it as best gini\n",
    "                    best_idx = idx # set idx for best gini\n",
    "                    best_thr = (thresholds[i] + thresholds[i - 1]) / 2 # calc threshold which is between best split\n",
    "                    \n",
    "        return best_idx, best_thr\n",
    "\n",
    "    # Inner class for Node Generation\n",
    "    class Node:\n",
    "        \n",
    "        def __init__(self, predicted_class):\n",
    "            \n",
    "            # Being predicted to be class\n",
    "            self.predicted_class = predicted_class\n",
    "            \n",
    "            # Will test on feature at\n",
    "            self.feature_index = 0\n",
    "            \n",
    "            # With Threshold\n",
    "            self.threshold = 0\n",
    "            \n",
    "            # Connect with Left and Right Node at\n",
    "            self.left = None\n",
    "            self.right = None\n",
    "  \n"
   ]
  },
  {
   "cell_type": "markdown",
   "metadata": {},
   "source": [
    "### How to use DecisionTree model\n",
    "\n",
    "DecisionTree(max_depth = None)\n",
    "\n",
    "Hyperparameter\n",
    "\n",
    "* max_depth: int or None (if None or negative, depth will be st to infinite automatically.)"
   ]
  },
  {
   "cell_type": "markdown",
   "metadata": {},
   "source": [
    "## Perform Decision Tree Classisification on Iris Data"
   ]
  },
  {
   "cell_type": "markdown",
   "metadata": {},
   "source": [
    "#### Load dataset"
   ]
  },
  {
   "cell_type": "code",
   "execution_count": 5,
   "metadata": {},
   "outputs": [],
   "source": [
    "from sklearn.datasets import load_iris\n",
    "\n",
    "dataset = load_iris()\n",
    "X, y = dataset.data, dataset.target"
   ]
  },
  {
   "cell_type": "markdown",
   "metadata": {},
   "source": [
    "Try to see what are the scatter will looks like"
   ]
  },
  {
   "cell_type": "code",
   "execution_count": 6,
   "metadata": {},
   "outputs": [
    {
     "data": {
      "image/png": "[encoded data removed]",
      "text/plain": [
       "<Figure size 432x288 with 1 Axes>"
      ]
     },
     "metadata": {
      "needs_background": "light"
     },
     "output_type": "display_data"
    }
   ],
   "source": [
    "plt.scatter(X[:, 1], X[:, 2], c=y)\n",
    "plt.xlabel('feature 1')\n",
    "plt.ylabel('feature 2')\n",
    "plt.title('Feature space (X1, X2) of Iris')\n",
    "plt.grid()\n",
    "plt.show()"
   ]
  },
  {
   "cell_type": "markdown",
   "metadata": {},
   "source": [
    "However, Decision tree will perform on between values threshold. So, we might not need to normalize the data."
   ]
  },
  {
   "cell_type": "markdown",
   "metadata": {},
   "source": [
    "#### Split Data to Train and Test"
   ]
  },
  {
   "cell_type": "code",
   "execution_count": 7,
   "metadata": {},
   "outputs": [],
   "source": [
    "from sklearn.model_selection import train_test_split\n",
    "\n",
    "X_train, X_test, y_train, y_test = train_test_split(X, y, test_size=0.3, random_state=48)"
   ]
  },
  {
   "cell_type": "markdown",
   "metadata": {},
   "source": [
    "#### Instantiate and Fit The Model"
   ]
  },
  {
   "cell_type": "markdown",
   "metadata": {},
   "source": [
    "Lets try model"
   ]
  },
  {
   "cell_type": "code",
   "execution_count": 8,
   "metadata": {},
   "outputs": [],
   "source": [
    "model = DecisionTree(max_depth=5)\n",
    "model.fit(X_train, y_train)"
   ]
  },
  {
   "cell_type": "markdown",
   "metadata": {},
   "source": [
    "#### Predict yhat"
   ]
  },
  {
   "cell_type": "markdown",
   "metadata": {},
   "source": [
    "After fitting model, we futher predict values"
   ]
  },
  {
   "cell_type": "code",
   "execution_count": 9,
   "metadata": {},
   "outputs": [],
   "source": [
    "y_pred = model.predict(X_test)"
   ]
  },
  {
   "cell_type": "markdown",
   "metadata": {},
   "source": [
    "The predicted values will looks like this"
   ]
  },
  {
   "cell_type": "code",
   "execution_count": 11,
   "metadata": {},
   "outputs": [
    {
     "data": {
      "text/plain": [
       "array([1, 1, 2, 0, 2, 2, 0, 2, 0, 1])"
      ]
     },
     "execution_count": 11,
     "metadata": {},
     "output_type": "execute_result"
    }
   ],
   "source": [
    "y_pred[:10]"
   ]
  },
  {
   "cell_type": "markdown",
   "metadata": {},
   "source": [
    "#### Model Evaluation"
   ]
  },
  {
   "cell_type": "code",
   "execution_count": 14,
   "metadata": {},
   "outputs": [
    {
     "name": "stdout",
     "output_type": "stream",
     "text": [
      "              precision    recall  f1-score   support\n",
      "\n",
      "           0       1.00      1.00      1.00        11\n",
      "           1       0.94      0.89      0.91        18\n",
      "           2       0.88      0.94      0.91        16\n",
      "\n",
      "    accuracy                           0.93        45\n",
      "   macro avg       0.94      0.94      0.94        45\n",
      "weighted avg       0.93      0.93      0.93        45\n",
      "\n"
     ]
    }
   ],
   "source": [
    "from sklearn.metrics import classification_report\n",
    "\n",
    "print(classification_report(y_test, y_pred))"
   ]
  },
  {
   "cell_type": "markdown",
   "metadata": {},
   "source": [
    "<br><br><br><br>"
   ]
  },
  {
   "cell_type": "markdown",
   "metadata": {},
   "source": [
    "### Try on different implementation with infinite depth"
   ]
  },
  {
   "cell_type": "code",
   "execution_count": 15,
   "metadata": {},
   "outputs": [
    {
     "name": "stdout",
     "output_type": "stream",
     "text": [
      "{Warning]: max_depth defined is None or less than 1, model will set to no limit\n",
      "              precision    recall  f1-score   support\n",
      "\n",
      "           0       1.00      1.00      1.00        11\n",
      "           1       0.94      0.89      0.91        18\n",
      "           2       0.88      0.94      0.91        16\n",
      "\n",
      "    accuracy                           0.93        45\n",
      "   macro avg       0.94      0.94      0.94        45\n",
      "weighted avg       0.93      0.93      0.93        45\n",
      "\n"
     ]
    }
   ],
   "source": [
    "model_inf = DecisionTree(max_depth=None)\n",
    "model_inf.fit(X_train, y_train)\n",
    "y_pred_inf = model_inf.predict(X_test)\n",
    "print(classification_report(y_test, y_pred_inf))"
   ]
  },
  {
   "cell_type": "code",
   "execution_count": null,
   "metadata": {},
   "outputs": [],
   "source": []
  }
 ],
 "metadata": {
  "kernelspec": {
   "display_name": "Python 3",
   "language": "python",
   "name": "python3"
  },
  "language_info": {
   "codemirror_mode": {
    "name": "ipython",
    "version": 3
   },
   "file_extension": ".py",
   "mimetype": "text/x-python",
   "name": "python",
   "nbconvert_exporter": "python",
   "pygments_lexer": "ipython3",
   "version": "3.8.3"
  }
 },
 "nbformat": 4,
 "nbformat_minor": 4
}
